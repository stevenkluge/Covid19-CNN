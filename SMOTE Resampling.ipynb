{
 "cells": [
  {
   "cell_type": "markdown",
   "id": "5ac6cb19-49c6-4335-a08a-6042576e5ad4",
   "metadata": {
    "tags": []
   },
   "source": [
    "# Apply SMOTE algorithm to the training set to fix class imbalance issues\n",
    "Note: Run 'Dataset Construction.ipynb' and 'Format Dicom Datasets.ipynb' before proceeding\n",
    "\n",
    "Note: This code requires approximately 24GiB of ram to complete according to htop"
   ]
  },
  {
   "cell_type": "code",
   "execution_count": 1,
   "id": "f9531dec-47a5-41e5-b768-3d09e95f3b1a",
   "metadata": {
    "tags": []
   },
   "outputs": [],
   "source": [
    "import os\n",
    "import imblearn\n",
    "import tensorflow.keras as keras\n",
    "import pandas as pd\n",
    "import PIL\n",
    "import cv2\n",
    "from PIL import Image, ImageOps\n",
    "from collections import Counter\n",
    "from random import shuffle\n",
    "import numpy as np"
   ]
  },
  {
   "cell_type": "code",
   "execution_count": 2,
   "id": "1df7cb53-adbf-467a-97a7-62eec427d073",
   "metadata": {},
   "outputs": [],
   "source": [
    "train_dir = './dataset/train'\n",
    "meta_path = os.path.join(train_dir, 'metadata.csv')\n",
    "\n",
    "os.makedirs(os.path.join(train_dir,'sampled','NORMAL'), exist_ok=True)\n",
    "os.makedirs(os.path.join(train_dir,'sampled','PNEUMONIA'), exist_ok=True)\n",
    "os.makedirs(os.path.join(train_dir,'sampled','COVID-19'), exist_ok=True)"
   ]
  },
  {
   "cell_type": "code",
   "execution_count": 3,
   "id": "3935e893-4253-4272-a683-434f5ca2ff5a",
   "metadata": {},
   "outputs": [
    {
     "name": "stdout",
     "output_type": "stream",
     "text": [
      "7146 5226\n",
      "0\n",
      "NORMAL: 211, PNEUMONIA: 211, COVID-19: 77\n"
     ]
    }
   ],
   "source": [
    "target_samples = 5000\n",
    "batch_size = 500\n",
    "idx = 0\n",
    "\n",
    "csv = pd.read_csv(meta_path)\n",
    "rus = imblearn.under_sampling.RandomUnderSampler(random_state=42, sampling_strategy={'NORMAL': target_samples, 'PNEUMONIA': target_samples})\n",
    "smote = imblearn.over_sampling.SMOTE(random_state=42, k_neighbors=5)\n",
    "\n",
    "images = {'NORMAL':[], 'PNEUMONIA':[], 'COVID-19':[]}\n",
    "labels = {'NORMAL':[], 'PNEUMONIA':[], 'COVID-19':[]}\n",
    "smoted_images = {'NORMAL':[], 'PNEUMONIA':[], 'COVID-19':[]}\n",
    "\n",
    "for index, series in csv.iterrows():\n",
    "    # Load all images into Dictionary\n",
    "    images[series['finding']].append(cv2.imread(series['imagename'], cv2.IMREAD_GRAYSCALE).flatten())\n",
    "    labels[series['finding']].append(series['finding'])\n",
    "    \n",
    "shuffle(images['NORMAL'])\n",
    "shuffle(images['PNEUMONIA'])\n",
    "shuffle(images['COVID-19'])\n",
    "\n",
    "# Preemptively undersample the normal class to the desired 5000 images\n",
    "print(len(images['NORMAL']), len(images['PNEUMONIA']))\n",
    "undersample, undersample_labels = rus.fit_resample(images['NORMAL'] + images['PNEUMONIA'], labels['NORMAL'] + labels['PNEUMONIA'])\n",
    "\n",
    "images['NORMAL'] = [sample for sample, label in zip(undersample, undersample_labels) if label == 'NORMAL']\n",
    "images['PNEUMONIA'] = [sample for sample, label in zip(undersample, undersample_labels) if label == 'PNEUMONIA']\n",
    "\n",
    "total_samples = len(images['NORMAL']) + len(images['PNEUMONIA']) + len(images['COVID-19'])\n",
    "class_imbalance = [len(images['NORMAL']), len(images['PNEUMONIA']), len(images['COVID-19'])]\n",
    "class_imbalance[:] = [sample / total_samples for sample in class_imbalance]\n",
    "\n",
    "# SMOTE per batch\n",
    "while True:\n",
    "    print(idx * batch_size)\n",
    "    print('NORMAL: {}, PNEUMONIA: {}, COVID-19: {}'.format(int((idx + 1) * batch_size * class_imbalance[0]), int((idx + 1) * batch_size * class_imbalance[1]) , int((idx + 1) * batch_size * class_imbalance[2])))\n",
    "    batch, batch_labels = smote.fit_resample(\n",
    "        images['NORMAL'][int(idx * batch_size * class_imbalance[0]):\n",
    "                         int((idx + 1) * batch_size * class_imbalance[0]) - 1] +\n",
    "        images['PNEUMONIA'][int(idx * batch_size * class_imbalance[1]):\n",
    "                         int((idx + 1) * batch_size * class_imbalance[1]) - 1] +\n",
    "        images['COVID-19'][int(idx * batch_size * class_imbalance[1]):\n",
    "                         int((idx + 1) * batch_size * class_imbalance[1]) - 1],\n",
    "        labels['NORMAL'][int(idx * batch_size * class_imbalance[0]):\n",
    "                         int((idx + 1) * batch_size * class_imbalance[0]) - 1] +\n",
    "        labels['PNEUMONIA'][int(idx * batch_size * class_imbalance[1]):\n",
    "                         int((idx + 1) * batch_size * class_imbalance[1]) - 1] +\n",
    "        labels['COVID-19'][int(idx * batch_size * class_imbalance[1]):\n",
    "                         int((idx + 1) * batch_size * class_imbalance[1]) - 1])\n",
    "    for image, label in zip(batch, batch_labels):\n",
    "        smoted_images[label].append(image)\n",
    "    \n",
    "    if idx * batch_size < len(images['NORMAL']):\n",
    "        break;\n",
    "        \n",
    "    idx += 1\n",
    "    \n",
    "batch, batch_labels = smote.fit_resample(\n",
    "    images['NORMAL'][int(idx * batch_size * class_imbalance[0]):len(images['NORMAL']) - 1] +\n",
    "    images['PNEUMONIA'][int(idx * batch_size * class_imbalance[1]):len(images['PNEUMONIA']) - 1] +\n",
    "    images['COVID-19'][int(idx * batch_size * class_imbalance[2]):len(images['COVID-19']) - 1],\n",
    "    labels['NORMAL'][int(idx * batch_size * class_imbalance[0]):len(images['NORMAL']) - 1] +\n",
    "    labels['PNEUMONIA'][int(idx * batch_size * class_imbalance[1]):len(images['PNEUMONIA']) - 1] +\n",
    "    labels['COVID-19'][int(idx * batch_size * class_imbalance[2]):len(images['COVID-19']) - 1])\n",
    "    \n",
    "for image, label in zip(batch, batch_labels):\n",
    "    smoted_images[label].append(image)\n",
    "\n",
    "for label in ['NORMAL', 'PNEUMONIA', 'COVID-19']:\n",
    "    idx = 0\n",
    "    for image in smoted_images[label]:\n",
    "        image = np.reshape(image,(300, 300)).astype(np.uint8)\n",
    "        cv2.imwrite(os.path.join(train_dir, 'sampled', label, '{}.png'.format(idx)), image)\n",
    "        idx += 1"
   ]
  }
 ],
 "metadata": {
  "kernelspec": {
   "display_name": "Python 3 (ipykernel)",
   "language": "python",
   "name": "python3"
  },
  "language_info": {
   "codemirror_mode": {
    "name": "ipython",
    "version": 3
   },
   "file_extension": ".py",
   "mimetype": "text/x-python",
   "name": "python",
   "nbconvert_exporter": "python",
   "pygments_lexer": "ipython3",
   "version": "3.9.9"
  }
 },
 "nbformat": 4,
 "nbformat_minor": 5
}
