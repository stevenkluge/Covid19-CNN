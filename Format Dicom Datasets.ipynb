{
 "cells": [
  {
   "cell_type": "markdown",
   "id": "96885309",
   "metadata": {},
   "source": [
    "# <p style='text-align: center'>Convert Dicom datasets (ricord and RSNA) into .png images and create corresponding .csv spreadsheets with required information for inclusion</p>"
   ]
  },
  {
   "cell_type": "code",
   "execution_count": 1,
   "id": "04678625",
   "metadata": {},
   "outputs": [],
   "source": [
    "import pydicom as pdcm\n",
    "from pydicom.pixel_data_handlers import apply_modality_lut, apply_voi_lut\n",
    "import pandas as pd\n",
    "import cv2\n",
    "import numpy as np\n",
    "import glob\n",
    "import os\n",
    "import pyprog"
   ]
  },
  {
   "cell_type": "code",
   "execution_count": 2,
   "id": "f1f940df",
   "metadata": {},
   "outputs": [],
   "source": [
    "ricord_dicom_path = './dicom images/ricord/MIDRC-RICORD-1C/'\n",
    "ricord_unusable_path = './ricord_exclude'\n",
    "ricord_output_path = './dataset/ricord/'\n",
    "\n",
    "rsna_dicom_path = './dicom images/rsna/stage_2_train_images'\n",
    "rsna_info_csv = './dicom images/rsna/stage_2_detailed_class_info.csv'\n",
    "rsna_output_path = './dataset/rsna/'"
   ]
  },
  {
   "cell_type": "code",
   "execution_count": 3,
   "id": "fa23ac9c",
   "metadata": {
    "scrolled": true
   },
   "outputs": [
    {
     "name": "stdout",
     "output_type": "stream",
     "text": [
      "Progress: |==================== 100% ====================== | Finished!                         \n"
     ]
    }
   ],
   "source": [
    "os.makedirs(os.path.join(ricord_output_path,'images'), exist_ok=True)\n",
    "\n",
    "# This list will prune unusable images from the set but not delete them... Some may find use of them\n",
    "unusable_imgs_file = open(ricord_unusable_path)\n",
    "unusable_imgs = [line[:-1] for line in unusable_imgs_file.readlines()]\n",
    "\n",
    "ricord_df = pd.DataFrame(columns=['patientid','finding','imagename'])\n",
    "\n",
    "# Calculate Target file count and create progress bar for convenience\n",
    "file_count_target = sum(len(files) for _, _, files in os.walk(ricord_dicom_path))\n",
    "\n",
    "prog = pyprog.ProgressBar('','')\n",
    "prog = pyprog.ProgressBar(prefix='',suffix=' Processing ' + str(prog.total - prog.current_stat) + ' more images...',total=file_count_target,progress_loc=3, complete_symbol=\"=\", not_complete_symbol=\" \", wrap_bar_prefix='|', wrap_bar_suffix='|')\n",
    "prog.update()\n",
    "\n",
    "for patient in sorted(glob.iglob(os.path.join(ricord_dicom_path, '**/'), recursive=False)):\n",
    "    for index, filename in enumerate(sorted(glob.iglob(os.path.join(patient, '**/*.dcm'), recursive=True))):\n",
    "        \n",
    "        # Splitting the first subfolder name (format: MIDRC-RICORD-1C-XXX-XXX) to get the patient ID at the end\n",
    "        mrn = (filename.split('/')[4]).split('-', 3)[-1]\n",
    "        \n",
    "        # Read Dataset & Image\n",
    "        dataset = pdcm.dcmread(filename)\n",
    "        image = dataset.pixel_array\n",
    "        \n",
    "        # Check for AP or PA orientation as they are the only two the model will be trained on. Field is 'ViewPosition'\n",
    "        if dataset.ViewPosition != 'AP' and dataset.ViewPosition != 'PA':\n",
    "            prog.set_total(prog.total - 1)\n",
    "            continue\n",
    "    \n",
    "        # Dicom images may not be uint8 dtype we need, so convert and map values if necessary\n",
    "        if image.dtype != np.dtype(np.uint8):\n",
    "            # Apply LUT transformations to fix contrast on some images\n",
    "            lut_arr = apply_modality_lut(image, dataset)\n",
    "            # Cannot run voi_lut if array is float, so check for any float dtype and correct it\n",
    "            if np.issubdtype(lut_arr.dtype, np.floating) or isinstance(lut_arr.dtype, float):\n",
    "                lut_arr = lut_arr.astype(np.uint16)\n",
    "            lut_arr = apply_voi_lut(lut_arr, dataset)\n",
    "            \n",
    "            # Convert to float64 [0,1] map and convert to uint8 [0,255]\n",
    "            lut_arr = lut_arr.astype(float)\n",
    "            \n",
    "            # If 'PhotometricInterpretation' field is MONOCHROME1 it needs to be inverted. (black on white to white on black)\n",
    "            if dataset.PhotometricInterpretation == 'MONOCHROME1':\n",
    "                # invert float value\n",
    "                lut_arr = 1.0 - lut_arr\n",
    "            # Normalize to [0,255]\n",
    "            lut_norm = cv2.normalize(lut_arr, None, alpha=0, beta=255, norm_type=cv2.NORM_MINMAX)\n",
    "            lut_norm = lut_norm.astype(np.uint8)\n",
    "            \n",
    "            # Reassign the modified image if necessary\n",
    "            image = lut_norm\n",
    "        else:\n",
    "            # If 'PhotometricInterpretation' field is MONOCHROME1 it needs to be inverted. (black on white to white on black)\n",
    "            if dataset.PhotometricInterpretation == 'MONOCHROME1':\n",
    "                # invert uint8 value\n",
    "                image = 255 - image\n",
    "        \n",
    "        denoise_image = cv2.medianBlur(image, 25)\n",
    "        _,binary_image = cv2.threshold(denoise_image,0,255,cv2.THRESH_BINARY)\n",
    "        x,y,w,h = cv2.boundingRect(binary_image)\n",
    "        crop = image[y:y+h,x:x+w]\n",
    "\n",
    "        # Create the file in the output directory or in pruned if not good quality\n",
    "        try:\n",
    "            if '{}-{}.png'.format(mrn, index) in unusable_imgs:\n",
    "                cv2.imwrite(os.path.join(ricord_output_path,'pruned', '{}-{}.png'.format(mrn, index)), crop)\n",
    "            else:\n",
    "                cv2.imwrite(os.path.join(ricord_output_path,'images', '{}-{}.png'.format(mrn, index)), crop)\n",
    "                                \n",
    "                #populate entries with each successful iteration\n",
    "                ricord_df = ricord_df.append({'patientid': mrn, 'finding': 'COVID-19', 'imagename': '{}-{}.png'.format(mrn, index)}, ignore_index=True)\n",
    "        except:\n",
    "            print('\\nError: {}-{}.png could not be created!'.format(mrn, index))\n",
    "            continue \n",
    "\n",
    "        # Update progress bar\n",
    "        prog.set_stat(prog.current_stat + 1)\n",
    "        prog.set_suffix(' Processing ' + str(prog.total - prog.current_stat) + ' more images...   ')\n",
    "        prog.update()\n",
    "        \n",
    "ricord_df.to_csv(os.path.join(ricord_output_path,'ricord_meta.csv'), index=False)\n",
    "\n",
    "# Finish Progress bar and clean up stray characters\n",
    "prog.set_suffix(' Finished!                         ')\n",
    "prog.update()\n",
    "prog.end()"
   ]
  },
  {
   "cell_type": "code",
   "execution_count": 6,
   "id": "ad9d4aed",
   "metadata": {
    "scrolled": true
   },
   "outputs": [
    {
     "name": "stdout",
     "output_type": "stream",
     "text": [
      "Progress: |==================== 100% =======================| Finished!                         \n"
     ]
    }
   ],
   "source": [
    "# For RSNA we will obtain only 'Lung Opacity' or 'Normal'\n",
    "\n",
    "os.makedirs(os.path.join(rsna_output_path,'images'), exist_ok=True)\n",
    "\n",
    "# Calculate Target file count and create progress bar for convenience\n",
    "file_count_target = sum(len(files) for _, _, files in os.walk(rsna_dicom_path))\n",
    "prog = pyprog.ProgressBar('','')\n",
    "prog = pyprog.ProgressBar(prefix='',suffix=' Processing ' + str(prog.total - prog.current_stat) + ' more images...',total=file_count_target,progress_loc=3, complete_symbol=\"=\", not_complete_symbol=\" \", wrap_bar_prefix='|', wrap_bar_suffix='|')\n",
    "prog.update()\n",
    "\n",
    "rsna_valid_targets = []\n",
    "\n",
    "rsna_df = pd.DataFrame(columns=['patientid','finding','imagename'])\n",
    "\n",
    "rsna_info = pd.read_csv(rsna_info_csv)\n",
    "\n",
    "for index, series in rsna_info.iterrows():\n",
    "    # Only grab pneumonia and normal cases and no repeats\n",
    "    if (series['class'] == 'Lung Opacity' or series['class'] == 'Normal') and series['patientId'] not in rsna_valid_targets:\n",
    "        finding = 'Normal' if series['class'] == 'Normal' else 'Pneumonia'\n",
    "        rsna_valid_targets.append(series['patientId'])\n",
    "        dicom_image = pdcm.dcmread(os.path.join(rsna_dicom_path, '{}.dcm'.format(series['patientId'])))\n",
    "        cv2.imwrite(os.path.join(rsna_output_path, 'images', '{}.png'.format(series['patientId'])), dicom_image.pixel_array)\n",
    "        rsna_df = rsna_df.append({'patientid': series['patientId'], 'finding': finding, 'imagename': '{}.png'.format(series['patientId'])}, ignore_index=True)\n",
    "        \n",
    "        # Update progress bar\n",
    "        prog.set_stat(prog.current_stat + 1)\n",
    "        prog.set_suffix(' Processing ' + str(prog.total - prog.current_stat) + ' more images...   ')\n",
    "        prog.update()\n",
    "        \n",
    "    elif series['patientId'] not in rsna_valid_targets:\n",
    "        prog.set_stat(prog.current_stat + 1)\n",
    "\n",
    "# Finish Progress bar and clean up stray characters\n",
    "prog.set_suffix(' Finished!                         ')\n",
    "prog.update()\n",
    "prog.end()\n",
    "        \n",
    "rsna_df.to_csv(os.path.join(rsna_output_path,'rsna_meta.csv'), index=False)"
   ]
  }
 ],
 "metadata": {
  "kernelspec": {
   "display_name": "Python 3 (ipykernel)",
   "language": "python",
   "name": "python3"
  },
  "language_info": {
   "codemirror_mode": {
    "name": "ipython",
    "version": 3
   },
   "file_extension": ".py",
   "mimetype": "text/x-python",
   "name": "python",
   "nbconvert_exporter": "python",
   "pygments_lexer": "ipython3",
   "version": "3.9.9"
  }
 },
 "nbformat": 4,
 "nbformat_minor": 5
}
